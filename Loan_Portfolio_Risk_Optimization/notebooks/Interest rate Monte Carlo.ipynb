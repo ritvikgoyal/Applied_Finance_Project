{
 "cells": [
  {
   "cell_type": "code",
   "execution_count": 1,
   "metadata": {},
   "outputs": [],
   "source": [
    "import numpy as np\n",
    "import pandas as pd\n",
    "import datetime"
   ]
  },
  {
   "cell_type": "code",
   "execution_count": 2,
   "metadata": {},
   "outputs": [],
   "source": [
    "def B(t, T, kappa):\n",
    "    delta_time = (T - t) / 12\n",
    "    return (1 - np.exp(-kappa * delta_time)) / kappa"
   ]
  },
  {
   "cell_type": "code",
   "execution_count": 3,
   "metadata": {},
   "outputs": [],
   "source": [
    "def B_theta_Riemann_sum(t, T, theta, kappa):\n",
    "    riemann_sum = 0\n",
    "    ds = 1.0 / 12\n",
    "    for s in range(t, T):\n",
    "        riemann_sum += B(s, T, kappa) * theta * ds\n",
    "    return riemann_sum"
   ]
  },
  {
   "cell_type": "code",
   "execution_count": 4,
   "metadata": {},
   "outputs": [],
   "source": [
    "def A(t, T, theta, kappa, sigma):\n",
    "    delta_time = (T - t) / 12\n",
    "    a_1 = B_theta_Riemann_sum(t, int(T), theta, kappa)\n",
    "    a_2 = sigma ** 2 / (2 * kappa ** 2) * (delta_time + (1 - np.exp(- 2 * kappa * delta_time)) / (2 * kappa) - 2 * B(t, T, kappa))\n",
    "    return -a_1 + a_2"
   ]
  },
  {
   "cell_type": "code",
   "execution_count": 5,
   "metadata": {},
   "outputs": [],
   "source": [
    "def calc_future_spot_rates(tau_years, short_rates, t, theta, kappa, sigma):\n",
    "    \"\"\"Calculate the future spot rates. For example, in t months what is the tau_years spot rate.\"\"\"\n",
    "    tau_months = 12.0 * tau_years\n",
    "    ten_year_rate = -A(t, t + tau_months, theta, kappa, sigma) / tau_years + (1 / kappa) * ((1 - np.exp(-kappa * tau_years)) / tau_years) * short_rates\n",
    "    return ten_year_rate"
   ]
  },
  {
   "cell_type": "code",
   "execution_count": 6,
   "metadata": {},
   "outputs": [],
   "source": [
    "def construct_future_spot_rate_matrix(tau_years, spot_rates, theta, kappa, sigma, num_periods):\n",
    "    num_simulations = spot_rates.shape[0]\n",
    "    tau_year_rates = np.zeros((num_simulations, num_periods))\n",
    "    for time_idx in range(num_periods):\n",
    "        tau_year_rates[:, time_idx] = calc_future_spot_rates(tau_years, spot_rates[:, time_idx], time_idx, theta, kappa, sigma)\n",
    "    return tau_year_rates"
   ]
  },
  {
   "cell_type": "code",
   "execution_count": 7,
   "metadata": {},
   "outputs": [],
   "source": [
    "def simulate_antithetic_short_rates(num_paths, num_months, theta, kappa, sigma, inital_r=0, seed=102):\n",
    "    np.random.seed(seed)\n",
    "    draws = np.random.normal(size=(num_paths, num_months))\n",
    "    dt = 1/12\n",
    "    dr_pos = np.zeros((num_paths, num_months+1))\n",
    "    r_pos = np.zeros((num_paths, num_months+1))\n",
    "    dr_neg = np.zeros((num_paths, num_months+1))\n",
    "    r_neg = np.zeros((num_paths, num_months+1))\n",
    "    r_pos[:, 0] = inital_r\n",
    "    r_neg[:, 0] = inital_r\n",
    "\n",
    "    for i in range(num_months):\n",
    "        dr_pos[:,i] = (theta - kappa*r_pos[:,i])*dt + sigma*dt**0.5*draws[:,i]\n",
    "        dr_neg[:,i] = (theta - kappa*r_neg[:,i])*dt - sigma*dt**0.5*draws[:,i]\n",
    "        r_pos[:,i+1] = r_pos[:,i] + dr_pos[:,i]\n",
    "        r_neg[:,i+1] = r_neg[:,i] + dr_neg[:,i]\n",
    "\n",
    "    return  r_pos, r_neg"
   ]
  },
  {
   "cell_type": "code",
   "execution_count": 8,
   "metadata": {},
   "outputs": [
    {
     "name": "stdout",
     "output_type": "stream",
     "text": [
      "Short Rates:\n",
      "\n",
      "[[0.0145     0.02175784 0.02582675 ... 0.0494502  0.04897685 0.04764405]\n",
      " [0.0145     0.0146151  0.01215458 ... 0.03519174 0.03540605 0.03786092]\n",
      " [0.0145     0.02175486 0.01914737 ... 0.06656438 0.0631917  0.06394562]\n",
      " ...\n",
      " [0.0145     0.01734244 0.01986712 ... 0.038395   0.03711054 0.03707522]\n",
      " [0.0145     0.01275488 0.01182277 ... 0.04390418 0.0393338  0.04371345]\n",
      " [0.0145     0.01516772 0.02137636 ... 0.05815533 0.0618319  0.05660191]]\n",
      "Discount Factors: \n",
      "\n",
      "[[0.9987924  0.99698307 0.99483964 ... 0.30182887 0.30059949 0.29940838]\n",
      " [0.9987924  0.99757668 0.99656677 ... 0.32354726 0.32259404 0.32157783]\n",
      " [0.9987924  0.99698332 0.99539379 ... 0.38193389 0.37992793 0.37790875]\n",
      " ...\n",
      " [0.9987924  0.99734998 0.99570014 ... 0.27622662 0.2753737  0.27452422]\n",
      " [0.9987924  0.99773134 0.99674883 ... 0.53808878 0.53632791 0.53437774]\n",
      " [0.9987924  0.99753074 0.99575536 ... 0.29661671 0.29509228 0.29370366]]\n",
      "Future 10 year spot rates: \n",
      "\n",
      "[[0.0234441  0.0277626  0.03018365 ... 0.04397939 0.04423988 0.04395823]\n",
      " [0.0234441  0.02351259 0.02204855 ... 0.03630655 0.03575593 0.03588345]\n",
      " [0.0234441  0.02776083 0.02620934 ... 0.05191213 0.05442302 0.05241624]\n",
      " ...\n",
      " [0.0234441  0.02513539 0.0266376  ... 0.04162211 0.03766191 0.03689764]\n",
      " [0.0234441  0.02240574 0.02185112 ... 0.03701185 0.04093993 0.03822051]\n",
      " [0.0234441  0.0238414  0.02753562 ... 0.04925741 0.04941954 0.05160714]]\n"
     ]
    }
   ],
   "source": [
    "# Simulation Parameters\n",
    "N = 10000  # num simulations\n",
    "T = 360  # months\n",
    "COUPON_GAP_YEARS = 10  # years\n",
    "\n",
    "# Hull-White Parameters\n",
    "short_rate_on_august_30_2004 = 1.45 / 100\n",
    "theta = 0.004624\n",
    "kappa = 0.114676\n",
    "sigma = 0.01456\n",
    "\n",
    "# calculate discount factors\n",
    "short_rates, short_rates_anti = simulate_antithetic_short_rates(N, T, theta, kappa, sigma, short_rate_on_august_30_2004)\n",
    "discount_factors = np.cumprod(np.exp(-short_rates / 12), axis=1)\n",
    "discount_factors_anti = np.cumprod(np.exp(-short_rates_anti / 12), axis=1)\n",
    "\n",
    "# calculate 10 year rates\n",
    "future_spot_rates = construct_future_spot_rate_matrix(COUPON_GAP_YEARS, short_rates, theta, kappa, sigma, T)\n",
    "future_spot_rates_anti = construct_future_spot_rate_matrix(COUPON_GAP_YEARS, short_rates_anti, theta, kappa, sigma, T)\n",
    "\n",
    "print(\"Short Rates:\\n\")\n",
    "print(short_rates)\n",
    "\n",
    "print(\"Discount Factors: \\n\")\n",
    "print(discount_factors)\n",
    "\n",
    "print(\"Future 10 year spot rates: \\n\")\n",
    "print(future_spot_rates)"
   ]
  },
  {
   "cell_type": "markdown",
   "metadata": {},
   "source": [
    "----"
   ]
  },
  {
   "cell_type": "markdown",
   "metadata": {},
   "source": [
    "### Coupon Gap (using 10 yr rates)"
   ]
  },
  {
   "cell_type": "code",
   "execution_count": 9,
   "metadata": {},
   "outputs": [
    {
     "data": {
      "text/plain": [
       "(10000, 360)"
      ]
     },
     "execution_count": 9,
     "metadata": {},
     "output_type": "execute_result"
    }
   ],
   "source": [
    "future_spot_rates.shape"
   ]
  },
  {
   "cell_type": "code",
   "execution_count": 10,
   "metadata": {
    "scrolled": true
   },
   "outputs": [
    {
     "data": {
      "text/plain": [
       "array([0.025 , 0.0255, 0.026 , 0.0265, 0.027 , 0.0275, 0.028 , 0.0285,\n",
       "       0.029 , 0.0295, 0.03  , 0.0305, 0.031 , 0.0315, 0.032 , 0.0325,\n",
       "       0.033 , 0.0335, 0.034 , 0.0345, 0.035 , 0.0355, 0.036 , 0.0365,\n",
       "       0.037 , 0.0375, 0.038 , 0.0385, 0.039 , 0.0395])"
      ]
     },
     "execution_count": 10,
     "metadata": {},
     "output_type": "execute_result"
    }
   ],
   "source": [
    "fixed_rates = np.arange(0.025, 0.04, 0.0005)\n",
    "fixed_rates"
   ]
  },
  {
   "cell_type": "code",
   "execution_count": 11,
   "metadata": {},
   "outputs": [],
   "source": [
    "def fixed_rates_per_loan(fixed_rates, num_loans = 30, months = 360):\n",
    "    \n",
    "    \n",
    "    fixed_final = []\n",
    "    for i in list(fixed_rates):\n",
    "        fixed = []\n",
    "        for j in range(0,months):\n",
    "            fixed.append(i)\n",
    "        fixed_final.append(fixed)\n",
    "    \n",
    "    return np.array(fixed_final)\n",
    "    \n",
    "    "
   ]
  },
  {
   "cell_type": "code",
   "execution_count": 12,
   "metadata": {},
   "outputs": [],
   "source": [
    "fr = fixed_rates_per_loan(fixed_rates, num_loans =30, months=360)"
   ]
  },
  {
   "cell_type": "code",
   "execution_count": 17,
   "metadata": {},
   "outputs": [
    {
     "data": {
      "text/plain": [
       "(30, 360)"
      ]
     },
     "execution_count": 17,
     "metadata": {},
     "output_type": "execute_result"
    }
   ],
   "source": [
    "fr.shape"
   ]
  },
  {
   "cell_type": "code",
   "execution_count": 14,
   "metadata": {},
   "outputs": [],
   "source": [
    "def coupon_gap_per_user(fixed_rates_per_loan, future_spot_rates):\n",
    "    \"\"\"fixed loan rate - 10 yr rate\"\"\"\n",
    "    \n",
    "    \n",
    "    dataframes = []\n",
    "    \n",
    "    for user in range(0, fixed_rates_per_loan.shape[0]):\n",
    "        \n",
    "        coupon_gap = []\n",
    "        \n",
    "        for int_path in range(0,future_spot_rates.shape[0]):\n",
    "            \n",
    "            coupon_gap.append(list(fixed_rates_per_loan[user] - future_spot_rates[int_path]))\n",
    "        \n",
    "        df = pd.DataFrame(np.array(coupon_gap).T)\n",
    "        dataframes.append(df)\n",
    "        \n",
    "    return dataframes\n",
    "    "
   ]
  },
  {
   "cell_type": "code",
   "execution_count": 15,
   "metadata": {},
   "outputs": [],
   "source": [
    "cg = coupon_gap_per_user(fr, future_spot_rates)"
   ]
  },
  {
   "cell_type": "code",
   "execution_count": 16,
   "metadata": {},
   "outputs": [],
   "source": [
    "def date_coupon_gaps(list_of_user_frames, start_date, years):\n",
    "    \n",
    "    end_yr = str(int(start_date.split(\"-\")[0])+years)\n",
    "    end_date = end_yr+\"-01-01\"\n",
    "    dates = pd.date_range(start_date, end_date, freq='MS' )\n",
    "    \n",
    "    for user in range(0, len(list_of_user_frames)):\n",
    "        \n",
    "        list_of_user_frames[user].index = dates[:-1]\n",
    "        \n",
    "    return list_of_user_frames\n",
    "    "
   ]
  },
  {
   "cell_type": "code",
   "execution_count": 69,
   "metadata": {},
   "outputs": [],
   "source": [
    "#num users"
   ]
  },
  {
   "cell_type": "code",
   "execution_count": 70,
   "metadata": {
    "scrolled": true
   },
   "outputs": [
    {
     "data": {
      "text/plain": [
       "30"
      ]
     },
     "execution_count": 70,
     "metadata": {},
     "output_type": "execute_result"
    }
   ],
   "source": [
    "len(cg)"
   ]
  },
  {
   "cell_type": "code",
   "execution_count": 71,
   "metadata": {},
   "outputs": [],
   "source": [
    "cg2 = date_coupon_gaps(cg, \"2017-01-01\", 30)"
   ]
  },
  {
   "cell_type": "code",
   "execution_count": 72,
   "metadata": {},
   "outputs": [],
   "source": [
    "#loan/user 1 coupon gaps in 10000 possible states of the future"
   ]
  },
  {
   "cell_type": "code",
   "execution_count": 73,
   "metadata": {},
   "outputs": [
    {
     "data": {
      "text/html": [
       "<div>\n",
       "<style scoped>\n",
       "    .dataframe tbody tr th:only-of-type {\n",
       "        vertical-align: middle;\n",
       "    }\n",
       "\n",
       "    .dataframe tbody tr th {\n",
       "        vertical-align: top;\n",
       "    }\n",
       "\n",
       "    .dataframe thead th {\n",
       "        text-align: right;\n",
       "    }\n",
       "</style>\n",
       "<table border=\"1\" class=\"dataframe\">\n",
       "  <thead>\n",
       "    <tr style=\"text-align: right;\">\n",
       "      <th></th>\n",
       "      <th>0</th>\n",
       "      <th>1</th>\n",
       "      <th>2</th>\n",
       "      <th>3</th>\n",
       "      <th>4</th>\n",
       "      <th>5</th>\n",
       "      <th>6</th>\n",
       "      <th>7</th>\n",
       "      <th>8</th>\n",
       "      <th>9</th>\n",
       "      <th>...</th>\n",
       "      <th>9990</th>\n",
       "      <th>9991</th>\n",
       "      <th>9992</th>\n",
       "      <th>9993</th>\n",
       "      <th>9994</th>\n",
       "      <th>9995</th>\n",
       "      <th>9996</th>\n",
       "      <th>9997</th>\n",
       "      <th>9998</th>\n",
       "      <th>9999</th>\n",
       "    </tr>\n",
       "  </thead>\n",
       "  <tbody>\n",
       "    <tr>\n",
       "      <th>2046-08-01</th>\n",
       "      <td>-0.046298</td>\n",
       "      <td>-0.041032</td>\n",
       "      <td>-0.052967</td>\n",
       "      <td>-0.065091</td>\n",
       "      <td>-0.032467</td>\n",
       "      <td>-0.049948</td>\n",
       "      <td>-0.012855</td>\n",
       "      <td>-0.047055</td>\n",
       "      <td>-0.040709</td>\n",
       "      <td>-0.014677</td>\n",
       "      <td>...</td>\n",
       "      <td>-0.046087</td>\n",
       "      <td>-0.045323</td>\n",
       "      <td>-0.072523</td>\n",
       "      <td>-0.009772</td>\n",
       "      <td>-0.047165</td>\n",
       "      <td>-0.028728</td>\n",
       "      <td>-0.002348</td>\n",
       "      <td>-0.037877</td>\n",
       "      <td>-0.038825</td>\n",
       "      <td>-0.051338</td>\n",
       "    </tr>\n",
       "    <tr>\n",
       "      <th>2046-09-01</th>\n",
       "      <td>-0.044033</td>\n",
       "      <td>-0.038808</td>\n",
       "      <td>-0.052585</td>\n",
       "      <td>-0.063625</td>\n",
       "      <td>-0.031805</td>\n",
       "      <td>-0.052575</td>\n",
       "      <td>-0.013424</td>\n",
       "      <td>-0.048008</td>\n",
       "      <td>-0.039921</td>\n",
       "      <td>-0.014408</td>\n",
       "      <td>...</td>\n",
       "      <td>-0.045372</td>\n",
       "      <td>-0.046886</td>\n",
       "      <td>-0.071660</td>\n",
       "      <td>-0.010417</td>\n",
       "      <td>-0.048064</td>\n",
       "      <td>-0.028331</td>\n",
       "      <td>-0.000891</td>\n",
       "      <td>-0.041198</td>\n",
       "      <td>-0.039411</td>\n",
       "      <td>-0.052093</td>\n",
       "    </tr>\n",
       "    <tr>\n",
       "      <th>2046-10-01</th>\n",
       "      <td>-0.044709</td>\n",
       "      <td>-0.037036</td>\n",
       "      <td>-0.052642</td>\n",
       "      <td>-0.065740</td>\n",
       "      <td>-0.033219</td>\n",
       "      <td>-0.057067</td>\n",
       "      <td>-0.013157</td>\n",
       "      <td>-0.046024</td>\n",
       "      <td>-0.038673</td>\n",
       "      <td>-0.019006</td>\n",
       "      <td>...</td>\n",
       "      <td>-0.046053</td>\n",
       "      <td>-0.043249</td>\n",
       "      <td>-0.075420</td>\n",
       "      <td>-0.008219</td>\n",
       "      <td>-0.042935</td>\n",
       "      <td>-0.028555</td>\n",
       "      <td>0.001684</td>\n",
       "      <td>-0.042352</td>\n",
       "      <td>-0.037742</td>\n",
       "      <td>-0.049987</td>\n",
       "    </tr>\n",
       "    <tr>\n",
       "      <th>2046-11-01</th>\n",
       "      <td>-0.044974</td>\n",
       "      <td>-0.036491</td>\n",
       "      <td>-0.055158</td>\n",
       "      <td>-0.068023</td>\n",
       "      <td>-0.035123</td>\n",
       "      <td>-0.056625</td>\n",
       "      <td>-0.015255</td>\n",
       "      <td>-0.043405</td>\n",
       "      <td>-0.041888</td>\n",
       "      <td>-0.019734</td>\n",
       "      <td>...</td>\n",
       "      <td>-0.038861</td>\n",
       "      <td>-0.046814</td>\n",
       "      <td>-0.075774</td>\n",
       "      <td>-0.008755</td>\n",
       "      <td>-0.044530</td>\n",
       "      <td>-0.031134</td>\n",
       "      <td>-0.002902</td>\n",
       "      <td>-0.038397</td>\n",
       "      <td>-0.041675</td>\n",
       "      <td>-0.050154</td>\n",
       "    </tr>\n",
       "    <tr>\n",
       "      <th>2046-12-01</th>\n",
       "      <td>-0.044698</td>\n",
       "      <td>-0.036623</td>\n",
       "      <td>-0.053156</td>\n",
       "      <td>-0.064921</td>\n",
       "      <td>-0.035867</td>\n",
       "      <td>-0.053612</td>\n",
       "      <td>-0.017869</td>\n",
       "      <td>-0.045178</td>\n",
       "      <td>-0.038188</td>\n",
       "      <td>-0.016469</td>\n",
       "      <td>...</td>\n",
       "      <td>-0.035509</td>\n",
       "      <td>-0.048759</td>\n",
       "      <td>-0.075376</td>\n",
       "      <td>-0.007902</td>\n",
       "      <td>-0.043357</td>\n",
       "      <td>-0.030880</td>\n",
       "      <td>0.000595</td>\n",
       "      <td>-0.037637</td>\n",
       "      <td>-0.038960</td>\n",
       "      <td>-0.052347</td>\n",
       "    </tr>\n",
       "  </tbody>\n",
       "</table>\n",
       "<p>5 rows × 10000 columns</p>\n",
       "</div>"
      ],
      "text/plain": [
       "                0         1         2         3         4         5     \\\n",
       "2046-08-01 -0.046298 -0.041032 -0.052967 -0.065091 -0.032467 -0.049948   \n",
       "2046-09-01 -0.044033 -0.038808 -0.052585 -0.063625 -0.031805 -0.052575   \n",
       "2046-10-01 -0.044709 -0.037036 -0.052642 -0.065740 -0.033219 -0.057067   \n",
       "2046-11-01 -0.044974 -0.036491 -0.055158 -0.068023 -0.035123 -0.056625   \n",
       "2046-12-01 -0.044698 -0.036623 -0.053156 -0.064921 -0.035867 -0.053612   \n",
       "\n",
       "                6         7         8         9     ...      9990      9991  \\\n",
       "2046-08-01 -0.012855 -0.047055 -0.040709 -0.014677  ... -0.046087 -0.045323   \n",
       "2046-09-01 -0.013424 -0.048008 -0.039921 -0.014408  ... -0.045372 -0.046886   \n",
       "2046-10-01 -0.013157 -0.046024 -0.038673 -0.019006  ... -0.046053 -0.043249   \n",
       "2046-11-01 -0.015255 -0.043405 -0.041888 -0.019734  ... -0.038861 -0.046814   \n",
       "2046-12-01 -0.017869 -0.045178 -0.038188 -0.016469  ... -0.035509 -0.048759   \n",
       "\n",
       "                9992      9993      9994      9995      9996      9997  \\\n",
       "2046-08-01 -0.072523 -0.009772 -0.047165 -0.028728 -0.002348 -0.037877   \n",
       "2046-09-01 -0.071660 -0.010417 -0.048064 -0.028331 -0.000891 -0.041198   \n",
       "2046-10-01 -0.075420 -0.008219 -0.042935 -0.028555  0.001684 -0.042352   \n",
       "2046-11-01 -0.075774 -0.008755 -0.044530 -0.031134 -0.002902 -0.038397   \n",
       "2046-12-01 -0.075376 -0.007902 -0.043357 -0.030880  0.000595 -0.037637   \n",
       "\n",
       "                9998      9999  \n",
       "2046-08-01 -0.038825 -0.051338  \n",
       "2046-09-01 -0.039411 -0.052093  \n",
       "2046-10-01 -0.037742 -0.049987  \n",
       "2046-11-01 -0.041675 -0.050154  \n",
       "2046-12-01 -0.038960 -0.052347  \n",
       "\n",
       "[5 rows x 10000 columns]"
      ]
     },
     "execution_count": 73,
     "metadata": {},
     "output_type": "execute_result"
    }
   ],
   "source": [
    "cg2[0].tail()"
   ]
  },
  {
   "cell_type": "code",
   "execution_count": null,
   "metadata": {},
   "outputs": [],
   "source": []
  },
  {
   "cell_type": "code",
   "execution_count": 79,
   "metadata": {},
   "outputs": [],
   "source": [
    "import matplotlib.pyplot as plt"
   ]
  },
  {
   "cell_type": "code",
   "execution_count": 80,
   "metadata": {},
   "outputs": [],
   "source": [
    "mean_r = np.mean(short_rates, axis=0)\n",
    "std_r = np.std(short_rates, axis=0)"
   ]
  },
  {
   "cell_type": "code",
   "execution_count": 81,
   "metadata": {},
   "outputs": [
    {
     "data": {
      "text/plain": [
       "[<matplotlib.lines.Line2D at 0x12118e828>]"
      ]
     },
     "execution_count": 81,
     "metadata": {},
     "output_type": "execute_result"
    },
    {
     "data": {
      "image/png": "[encoded data removed]",
      "text/plain": [
       "<Figure size 432x288 with 1 Axes>"
      ]
     },
     "metadata": {
      "needs_background": "light"
     },
     "output_type": "display_data"
    }
   ],
   "source": [
    "for i in range(4):\n",
    "    plt.plot(short_rates[i, :], alpha=0.5)\n",
    "plt.plot(mean_r)\n",
    "plt.plot(mean_r+std_r)\n",
    "plt.plot(mean_r-std_r)"
   ]
  },
  {
   "cell_type": "code",
   "execution_count": 77,
   "metadata": {},
   "outputs": [
    {
     "data": {
      "text/plain": [
       "(10000, 361)"
      ]
     },
     "execution_count": 77,
     "metadata": {},
     "output_type": "execute_result"
    }
   ],
   "source": [
    "short_rates.shape"
   ]
  },
  {
   "cell_type": "code",
   "execution_count": null,
   "metadata": {},
   "outputs": [],
   "source": []
  }
 ],
 "metadata": {
  "kernelspec": {
   "display_name": "Python 3",
   "language": "python",
   "name": "python3"
  },
  "language_info": {
   "codemirror_mode": {
    "name": "ipython",
    "version": 3
   },
   "file_extension": ".py",
   "mimetype": "text/x-python",
   "name": "python",
   "nbconvert_exporter": "python",
   "pygments_lexer": "ipython3",
   "version": "3.6.8"
  }
 },
 "nbformat": 4,
 "nbformat_minor": 2
}
