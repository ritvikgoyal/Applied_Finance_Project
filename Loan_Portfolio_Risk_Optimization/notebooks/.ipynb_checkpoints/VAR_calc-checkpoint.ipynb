{
 "cells": [
  {
   "cell_type": "code",
   "execution_count": 20,
   "metadata": {},
   "outputs": [],
   "source": [
    "import pandas as pd\n",
    "import numpy as np\n",
    "import matplotlib.pyplot as plt"
   ]
  },
  {
   "cell_type": "code",
   "execution_count": 21,
   "metadata": {},
   "outputs": [],
   "source": [
    "pv_1 = (np.random.normal(size = 1000))*20 + 3000"
   ]
  },
  {
   "cell_type": "code",
   "execution_count": 26,
   "metadata": {},
   "outputs": [
    {
     "data": {
      "image/png": "[encoded data removed]",
      "text/plain": [
       "<Figure size 432x288 with 1 Axes>"
      ]
     },
     "metadata": {
      "needs_background": "light"
     },
     "output_type": "display_data"
    }
   ],
   "source": [
    "plt.hist(pv_1, bins =30, edgecolor =\"black\")\n",
    "plt.show()"
   ]
  },
  {
   "cell_type": "code",
   "execution_count": 53,
   "metadata": {},
   "outputs": [],
   "source": [
    "def VAR(initial_investment, confidence, portfolio_values):\n",
    "    \n",
    "    \"\"\"function to calculate the per period VAR\"\"\"\n",
    "    \n",
    "    loss_gain_distribution = portfolio_values - initial_investment\n",
    "    \n",
    "    var = np.percentile(loss_gain_distribution, q = 1-confidence)\n",
    "    \n",
    "    if var < 0:\n",
    "        \n",
    "        print(\"we can be\", confidence*100,\"% confident that our losses will not exceed: $\",np.round(-1*var,2), \"over the next 1 year\")\n",
    "    \n",
    "    elif var >0:\n",
    "        print(\"we can be\", confidence*100 ,\"% confident that our gains will not be lower then $\",np.round(var,2), \"over the next 1 year\")\n",
    "    "
   ]
  },
  {
   "cell_type": "code",
   "execution_count": 54,
   "metadata": {},
   "outputs": [
    {
     "name": "stdout",
     "output_type": "stream",
     "text": [
      "we can be 99.0 % confident that our losses will not exceed: $ 71.82 over the next 1 year\n"
     ]
    }
   ],
   "source": [
    "VAR(3000, 0.99, pv_1)"
   ]
  },
  {
   "cell_type": "code",
   "execution_count": null,
   "metadata": {},
   "outputs": [],
   "source": []
  }
 ],
 "metadata": {
  "kernelspec": {
   "display_name": "Python 3",
   "language": "python",
   "name": "python3"
  },
  "language_info": {
   "codemirror_mode": {
    "name": "ipython",
    "version": 3
   },
   "file_extension": ".py",
   "mimetype": "text/x-python",
   "name": "python",
   "nbconvert_exporter": "python",
   "pygments_lexer": "ipython3",
   "version": "3.6.8"
  }
 },
 "nbformat": 4,
 "nbformat_minor": 2
}
