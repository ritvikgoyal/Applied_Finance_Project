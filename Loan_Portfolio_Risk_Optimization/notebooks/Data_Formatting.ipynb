{
 "cells": [
  {
   "cell_type": "code",
   "execution_count": 1,
   "metadata": {},
   "outputs": [],
   "source": [
    "import numpy as np\n",
    "import pandas as pd\n",
    "from datetime import datetime"
   ]
  },
  {
   "cell_type": "code",
   "execution_count": 2,
   "metadata": {},
   "outputs": [],
   "source": [
    "Q1_2018_Loans = pd.read_csv('../data/LoanStats_securev1_2018Q1.csv', low_memory=False)"
   ]
  },
  {
   "cell_type": "code",
   "execution_count": 4,
   "metadata": {},
   "outputs": [],
   "source": [
    "loans = Q1_2018_Loans.sample(5)"
   ]
  },
  {
   "cell_type": "code",
   "execution_count": null,
   "metadata": {},
   "outputs": [],
   "source": [
    "def format_loan_data(loan_df):\n",
    "    \n",
    "    cols_to_keep = ['id','issue_d','funded_amnt','term', 'int_rate', 'installment', 'emp_length', 'home_ownership', 'annual_inc','verification_status','purpose', 'zip_code', 'addr_state','dti','delinq_2yrs', 'earliest_cr_line','fico_range_low','fico_range_high','inq_last_6mths', 'mths_since_last_delinq','mths_since_last_record','open_acc','pub_rec','revol_bal','revol_util','total_acc','out_prncp','out_prncp_inv', 'total_pymnt', 'total_pymnt_inv','total_rec_prncp', 'total_rec_int', 'last_credit_pull_d','total_rec_late_fee',\n",
    "    'application_type', 'annual_inc_joint', 'dti_joint',\n",
    "    'verification_status_joint','last_fico_range_high', 'last_fico_range_low','mths_since_recent_bc', 'mths_since_recent_bc_dlq',\n",
    "    'mths_since_recent_inq', 'mths_since_recent_revol_delinq',\n",
    "    'num_accts_ever_120_pd', 'num_actv_bc_tl', 'num_actv_rev_tl',\n",
    "    'num_bc_sats', 'num_bc_tl', 'num_il_tl', 'num_op_rev_tl',\n",
    "    'num_rev_accts', 'num_rev_tl_bal_gt_0', 'num_sats',\n",
    "    'num_tl_120dpd_2m', 'num_tl_30dpd', 'num_tl_90g_dpd_24m',\n",
    "    'num_tl_op_past_12m','last_pymnt_d','last_pymnt_amnt', 'next_pymnt_d','loan_status']\n",
    "    \n",
    "    loan_df = loan_df[cols_to_keep]\n",
    "    loan_df = loan_df[pd.notnull(loan_df['id'])]\n",
    "    loan_df = loan_df[pd.notnull(loan_df['term'])]\n",
    "    loan_df = loan_df[loan_df.term != \"nan\"]\n",
    "    \n",
    "    null_zero_cols = ['delinq_2yrs','mths_since_last_delinq','mths_since_last_record','mths_since_recent_bc', 'mths_since_recent_bc_dlq',\n",
    "       'mths_since_recent_inq', 'mths_since_recent_revol_delinq','num_accts_ever_120_pd', 'num_actv_bc_tl', 'num_actv_rev_tl',\n",
    "       'num_bc_sats', 'num_bc_tl', 'num_il_tl', 'num_op_rev_tl',\n",
    "       'num_rev_accts', 'num_rev_tl_bal_gt_0', 'num_sats',\n",
    "       'num_tl_120dpd_2m', 'num_tl_30dpd', 'num_tl_90g_dpd_24m',\n",
    "       'num_tl_op_past_12m']\n",
    "    \n",
    "    for col in null_zero_cols:\n",
    "        loan_df[col][pd.isnull(loan_df[col])] = 0\n",
    "        \n",
    "    loan_df.verification_status_joint[loan_df.application_type == \"Individual\"] = loan_df.verification_status\n",
    "    loan_df.verification_status_joint[loan_df.application_type == \"Individual\"] = loan_df.verification_status\n",
    "    loan_df.annual_inc_joint[loan_df.application_type == \"Individual\"] = loan_df.annual_inc*2\n",
    "    loan_df.dti_joint[loan_df.application_type == \"Individual\"] = loan_df.dti/2\n",
    "\n"
   ]
  },
  {
   "cell_type": "code",
   "execution_count": 5,
   "metadata": {},
   "outputs": [],
   "source": []
  },
  {
   "cell_type": "code",
   "execution_count": null,
   "metadata": {},
   "outputs": [],
   "source": []
  },
  {
   "cell_type": "code",
   "execution_count": null,
   "metadata": {},
   "outputs": [],
   "source": []
  }
 ],
 "metadata": {
  "kernelspec": {
   "display_name": "Python 3",
   "language": "python",
   "name": "python3"
  },
  "language_info": {
   "codemirror_mode": {
    "name": "ipython",
    "version": 3
   },
   "file_extension": ".py",
   "mimetype": "text/x-python",
   "name": "python",
   "nbconvert_exporter": "python",
   "pygments_lexer": "ipython3",
   "version": "3.6.8"
  }
 },
 "nbformat": 4,
 "nbformat_minor": 2
}
